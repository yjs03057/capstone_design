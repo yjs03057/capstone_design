{
 "cells": [
  {
   "cell_type": "code",
   "execution_count": 2,
   "metadata": {},
   "outputs": [
    {
     "name": "stderr",
     "output_type": "stream",
     "text": [
      "/Users/user/opt/anaconda3/envs/env/lib/python3.7/site-packages/librosa/util/decorators.py:9: NumbaDeprecationWarning: \u001b[1mAn import was requested from a module that has moved location.\n",
      "Import requested from: 'numba.decorators', please update to use 'numba.core.decorators' or pin to Numba version 0.48.0. This alias will not be present in Numba version 0.50.0.\u001b[0m\n",
      "  from numba.decorators import jit as optional_jit\n",
      "/Users/user/opt/anaconda3/envs/env/lib/python3.7/site-packages/librosa/util/decorators.py:9: NumbaDeprecationWarning: \u001b[1mAn import was requested from a module that has moved location.\n",
      "Import of 'jit' requested from: 'numba.decorators', please update to use 'numba.core.decorators' or pin to Numba version 0.48.0. This alias will not be present in Numba version 0.50.0.\u001b[0m\n",
      "  from numba.decorators import jit as optional_jit\n"
     ]
    }
   ],
   "source": [
    "from utils import *\n",
    "\n",
    "import wave\n",
    "import numpy as np\n",
    "import os\n",
    "import scipy\n",
    "import matplotlib.pyplot as plt\n",
    "import sklearn\n",
    "import librosa\n",
    "import urllib\n",
    "import librosa.display\n",
    "import warnings\n",
    "from tqdm import tqdm"
   ]
  },
  {
   "cell_type": "code",
   "execution_count": 3,
   "metadata": {},
   "outputs": [],
   "source": [
    "warnings.filterwarnings(action='ignore') "
   ]
  },
  {
   "cell_type": "code",
   "execution_count": 4,
   "metadata": {},
   "outputs": [],
   "source": [
    "PROJECT_DIR = get_upper_dir()\n",
    "DATA_DIR = get_data_dir(PROJECT_DIR)\n",
    "FEATURE_DIR = get_feature_dir(PROJECT_DIR)"
   ]
  },
  {
   "cell_type": "code",
   "execution_count": 10,
   "metadata": {},
   "outputs": [],
   "source": [
    "DATA_DIR = '/Users/user/git/2015104199/프로젝트/data/test/'"
   ]
  },
  {
   "cell_type": "code",
   "execution_count": 12,
   "metadata": {},
   "outputs": [],
   "source": [
    "name_list = os.listdir(DATA_DIR)"
   ]
  },
  {
   "cell_type": "code",
   "execution_count": 7,
   "metadata": {},
   "outputs": [],
   "source": [
    "FEATURE_DIR = '/Users/user/git/2015104199/프로젝트/data/extract/'"
   ]
  },
  {
   "cell_type": "code",
   "execution_count": 19,
   "metadata": {},
   "outputs": [
    {
     "data": {
      "text/plain": [
       "'angle_20_4'"
      ]
     },
     "execution_count": 19,
     "metadata": {},
     "output_type": "execute_result"
    }
   ],
   "source": [
    "name_list[0][:-6]"
   ]
  },
  {
   "cell_type": "code",
   "execution_count": 8,
   "metadata": {},
   "outputs": [],
   "source": [
    "def convert_mfcc(x, fs):\n",
    "    mfccs = librosa.feature.mfcc(x, sr=fs, n_mfcc=40)\n",
    "    mfccs = np.resize(mfccs, (40,150))\n",
    "    mfccs = sklearn.preprocessing.scale(mfccs, axis=1)\n",
    "    \n",
    "    return mfccs"
   ]
  },
  {
   "cell_type": "code",
   "execution_count": 25,
   "metadata": {},
   "outputs": [],
   "source": [
    "def convert_stft(x, fs):\n",
    "    D_octave = np.abs(librosa.core.stft(x))\n",
    "    D_octave = np.resize(D_octave, (40, 150))\n",
    "    return D_octave"
   ]
  },
  {
   "cell_type": "code",
   "execution_count": 26,
   "metadata": {},
   "outputs": [],
   "source": [
    "def gcc_phat(sig1, sig2):\n",
    "    pad1 = np.zeros(len(sig1))\n",
    "    pad2 = np.zeros(len(sig2))\n",
    "    sig1 = np.hstack([sig1, pad1])\n",
    "    sig2 = np.hstack([sig2, pad2])\n",
    "    f_sig1 = scipy.fftpack.fft(sig1, 6000)\n",
    "    f_sig2 = scipy.fftpack.fft(sig2, 6000)\n",
    "    f_sig2_c = np.conj(f_sig2)\n",
    "    f_sig = f_sig1 * f_sig2_c\n",
    "    denom = abs(f_sig)\n",
    "\n",
    "    f_sig = f_sig / denom\n",
    "    return np.abs(scipy.fftpack.ifft(f_sig, 6000))"
   ]
  },
  {
   "cell_type": "code",
   "execution_count": 24,
   "metadata": {},
   "outputs": [],
   "source": [
    "import audioop"
   ]
  },
  {
   "cell_type": "code",
   "execution_count": 26,
   "metadata": {},
   "outputs": [],
   "source": [
    "def rms(sig):\n",
    "    return audioop.rms(sig, 2)"
   ]
  },
  {
   "cell_type": "code",
   "execution_count": 29,
   "metadata": {},
   "outputs": [
    {
     "name": "stderr",
     "output_type": "stream",
     "text": [
      "100%|██████████| 30/30 [00:08<00:00,  3.55it/s]\n"
     ]
    }
   ],
   "source": [
    "feature_list = []\n",
    "label_list = []\n",
    "\n",
    "for name in tqdm(name_list):\n",
    "    ch1_name = DATA_DIR + '/' + name + '_ch1.wav'\n",
    "    ch2_name = DATA_DIR + '/' + name + '_ch2.wav'\n",
    "\n",
    "    x1, fs1 = librosa.load(ch1_name)\n",
    "    x2, fs2 = librosa.load(ch2_name)\n",
    "    \n",
    "    mfcc1 = convert_mfcc(x1, fs1)\n",
    "    mfcc2 = convert_mfcc(x2, fs2)\n",
    "    mfcc = mfcc2 - mfcc1\n",
    "    \n",
    "    stft1 = convert_stft(x1, fs1)\n",
    "    stft2 = convert_stft(x2, fs2)\n",
    "    stft = stft2 - stft1\n",
    "    \n",
    "    gcc = gcc_phat(x1, x2)\n",
    "    gcc = gcc.reshape([-1, 150])\n",
    "    \n",
    "    feature = np.concatenate((mfcc, stft, gcc), axis=0)\n",
    "    label = name[-3:]\n",
    "    \n",
    "    np.save(DATA_DIR + '/direction_' + name +'.npy', feature_list)\n",
    "    #np.save(FEATURE_DIR + 'direction/' + 'label2.npy', np.array(label_list))"
   ]
  },
  {
   "cell_type": "code",
   "execution_count": null,
   "metadata": {},
   "outputs": [],
   "source": [
    "name_list[99][-3:]"
   ]
  },
  {
   "cell_type": "code",
   "execution_count": 57,
   "metadata": {},
   "outputs": [],
   "source": [
    "ch1_name = DATA_DIR + '/' + name_list[199] + '_ch1.wav'\n",
    "ch2_name = DATA_DIR + '/' + name_list[199] + '_ch2.wav'\n",
    "x1, fs1 = librosa.load(ch1_name)\n",
    "x2, fs2 = librosa.load(ch2_name)"
   ]
  },
  {
   "cell_type": "code",
   "execution_count": 9,
   "metadata": {},
   "outputs": [],
   "source": [
    "mfcc1 = convert_mfcc(x1, fs1)"
   ]
  },
  {
   "cell_type": "code",
   "execution_count": 14,
   "metadata": {},
   "outputs": [],
   "source": [
    "lpc_10_1 = LPC(x1, 10)"
   ]
  },
  {
   "cell_type": "code",
   "execution_count": 15,
   "metadata": {},
   "outputs": [
    {
     "data": {
      "text/plain": [
       "array([   1.        ,   -7.47176933,   26.70705232,  -59.68409469,\n",
       "         92.14293739, -102.65423442,   83.68503334,  -49.40785977,\n",
       "         20.29410557,   -5.26480268,    0.66227019])"
      ]
     },
     "execution_count": 15,
     "metadata": {},
     "output_type": "execute_result"
    }
   ],
   "source": [
    "lpc_10_1"
   ]
  },
  {
   "cell_type": "code",
   "execution_count": null,
   "metadata": {},
   "outputs": [],
   "source": [
    "librosa.display.specshow(mfcc1, sr=fs1, x_axis='time')"
   ]
  },
  {
   "cell_type": "code",
   "execution_count": null,
   "metadata": {},
   "outputs": [],
   "source": [
    "librosa.display.specshow(mfcc2, sr=fs1, x_axis='time')"
   ]
  },
  {
   "cell_type": "code",
   "execution_count": null,
   "metadata": {},
   "outputs": [],
   "source": [
    "stft1 = convert_stft(x1, fs1)\n",
    "stft2 = convert_stft(x2, fs2)\n",
    "stft = stft2 - stft1"
   ]
  },
  {
   "cell_type": "code",
   "execution_count": null,
   "metadata": {},
   "outputs": [],
   "source": [
    "gcc = gcc_phat(x1, x2)\n",
    "gcc = gcc.reshape([-1, 150])"
   ]
  },
  {
   "cell_type": "code",
   "execution_count": null,
   "metadata": {},
   "outputs": [],
   "source": [
    "print(mfcc.shape)\n",
    "print(stft.shape)\n",
    "print(gcc.shape)"
   ]
  },
  {
   "cell_type": "code",
   "execution_count": null,
   "metadata": {},
   "outputs": [],
   "source": [
    "result = np.concatenate((mfcc, stft, gcc), axis=0)"
   ]
  },
  {
   "cell_type": "code",
   "execution_count": null,
   "metadata": {},
   "outputs": [],
   "source": [
    "result.shape"
   ]
  },
  {
   "cell_type": "code",
   "execution_count": null,
   "metadata": {},
   "outputs": [],
   "source": [
    "DATA_DIR"
   ]
  },
  {
   "cell_type": "code",
   "execution_count": 29,
   "metadata": {},
   "outputs": [
    {
     "data": {
      "text/plain": [
       "'/Users/user/git/2015104199/프로젝트/data/output_noisy_file/data_816_39_angle_160_ch1.wav'"
      ]
     },
     "execution_count": 29,
     "metadata": {},
     "output_type": "execute_result"
    }
   ],
   "source": [
    "ch1_name"
   ]
  },
  {
   "cell_type": "code",
   "execution_count": 32,
   "metadata": {},
   "outputs": [],
   "source": [
    "chunks = np.array_split(x1, 20)"
   ]
  },
  {
   "cell_type": "code",
   "execution_count": 39,
   "metadata": {},
   "outputs": [
    {
     "data": {
      "text/plain": [
       "2458"
      ]
     },
     "execution_count": 39,
     "metadata": {},
     "output_type": "execute_result"
    }
   ],
   "source": [
    "len(chunks[0])"
   ]
  },
  {
   "cell_type": "code",
   "execution_count": 10,
   "metadata": {},
   "outputs": [],
   "source": [
    "from librosa import lpc\n",
    "from scipy.fft import dct, idct\n",
    "from scipy.fft import fft"
   ]
  },
  {
   "cell_type": "code",
   "execution_count": 11,
   "metadata": {},
   "outputs": [],
   "source": [
    "def LPC(x, order):\n",
    "    x_norm = x/(len(x)*len(x))\n",
    "    filt = lpc(x_norm, order)\n",
    "    return filt"
   ]
  },
  {
   "cell_type": "code",
   "execution_count": 12,
   "metadata": {},
   "outputs": [],
   "source": [
    "def fft_cepstrum(x, N, order):\n",
    "    yr = fft(x, n=order)\n",
    "    yr = yr*(1/N)\n",
    "    return yr"
   ]
  },
  {
   "cell_type": "code",
   "execution_count": 13,
   "metadata": {},
   "outputs": [],
   "source": [
    "def match_label(x):\n",
    "    if x == '01' or x == '06' or x == '09' or x == '23' or x == '24' or x == '27' or x == '30' or \\\n",
    "        x == '33' or x == '35' or x == '36' or x == '44' or x == '48':\n",
    "        return 'F'\n",
    "    elif x == '02' or x == '03' or x == '05' or x == '10' or x == '12' or x == '15' or x == '16' or \\\n",
    "        x == '18' or x == '21' or x == '22' or x == '28' or x == '28' or x == '31' or x == '34' or \\\n",
    "        x == '37' or x == '40' or x == '41' or x == '43' or x == '47':\n",
    "        return 'K'\n",
    "    else : return 'M'"
   ]
  },
  {
   "cell_type": "code",
   "execution_count": 31,
   "metadata": {},
   "outputs": [
    {
     "name": "stderr",
     "output_type": "stream",
     "text": [
      "100%|██████████| 30/30 [00:07<00:00,  3.88it/s]\n"
     ]
    }
   ],
   "source": [
    "feature_list = []\n",
    "label_list = []\n",
    "num = 0\n",
    "for name in tqdm(name_list):\n",
    "    ch1_name = DATA_DIR + '/' + name + '_ch1.wav'\n",
    "    ch2_name = DATA_DIR + '/' + name + '_ch2.wav'\n",
    "    \n",
    "    idx = name[:-10][-2:]\n",
    "    label = match_label(idx)\n",
    "    \n",
    "    x1, fs1 = librosa.load(ch1_name)\n",
    "    x2, fs2 = librosa.load(ch2_name)\n",
    "    try:\n",
    "        mfcc1 = convert_mfcc(x1, fs1)\n",
    "        mfcc2 = convert_mfcc(x2, fs2)\n",
    "        \n",
    "        lpc_10_1 = LPC(x1, 10)\n",
    "        lpc_10_2 = LPC(x2, 10)\n",
    "        lpc_12_1 = LPC(x1, 12)\n",
    "        lpc_12_2 = LPC(x2, 12)\n",
    "        lpc_14_1 = LPC(x1, 14)\n",
    "        lpc_14_2 = LPC(x2, 14)\n",
    "\n",
    "        fft_8_1 = fft_cepstrum(x1, len(x1), 8)\n",
    "        fft_8_2 = fft_cepstrum(x2, len(x2), 8)\n",
    "        fft_12_1 = fft_cepstrum(x1, len(x1), 12)\n",
    "        fft_12_2 = fft_cepstrum(x2, len(x2), 12)\n",
    "        \n",
    "        feature = np.concatenate((lpc_10_1, lpc_12_1, fft_8_1, fft_12_1), axis=0)\n",
    "        feature_list.append(feature)\n",
    "        label_list.append(label)\n",
    "\n",
    "        feature = np.concatenate((lpc_10_2, lpc_12_2, fft_8_2, fft_12_2), axis=0)\n",
    "        feature_list.append(feature)\n",
    "        label_list.append(label)\n",
    "        \n",
    "    except:\n",
    "        num += 1\n",
    "        continue\n",
    "    \n",
    "    np.save(DATA_DIR + '/gender_' + name +'.npy', feature_list)\n",
    "    #np.save(FEATURE_DIR + 'gender_age/' + 'label1.npy', np.array(label_list))   "
   ]
  },
  {
   "cell_type": "code",
   "execution_count": 9,
   "metadata": {},
   "outputs": [
    {
     "data": {
      "text/plain": [
       "['angle_60',\n",
       " 'angle_120',\n",
       " 'angle_80',\n",
       " 'angle_140',\n",
       " 'angle_160',\n",
       " 'angle_100',\n",
       " 'angle_40',\n",
       " 'angle_0',\n",
       " 'angle_20',\n",
       " '.',\n",
       " 'angle_180']"
      ]
     },
     "execution_count": 9,
     "metadata": {},
     "output_type": "execute_result"
    }
   ],
   "source": [
    "name_list"
   ]
  },
  {
   "cell_type": "code",
   "execution_count": 22,
   "metadata": {},
   "outputs": [
    {
     "name": "stderr",
     "output_type": "stream",
     "text": [
      "100%|██████████| 50/50 [00:05<00:00,  9.36it/s]\n"
     ]
    }
   ],
   "source": [
    "feature_list = []\n",
    "label_list = []\n",
    "num = 0\n",
    "for name in tqdm(name_list):\n",
    "    x1, fs1 = librosa.load(DATA_DIR + name)\n",
    "    try:\n",
    "        mfcc1 = convert_mfcc(x1, fs1)\n",
    "        \n",
    "    except:\n",
    "        num += 1\n",
    "        continue\n",
    "    \n",
    "    np.save(FEATURE_DIR + 'gender_' + name[:-6] + '.npy', mfcc1)\n",
    "    #np.save(FEATURE_DIR + 'gender_age/' + 'label3.npy', np.array(label_list))   "
   ]
  },
  {
   "cell_type": "code",
   "execution_count": 64,
   "metadata": {},
   "outputs": [],
   "source": [
    "xx = np.resize(x1,(int(x1.shape[0]/1000),1000))"
   ]
  },
  {
   "cell_type": "code",
   "execution_count": 65,
   "metadata": {},
   "outputs": [
    {
     "data": {
      "text/plain": [
       "(62, 1000)"
      ]
     },
     "execution_count": 65,
     "metadata": {},
     "output_type": "execute_result"
    }
   ],
   "source": [
    "xx.shape"
   ]
  },
  {
   "cell_type": "code",
   "execution_count": 66,
   "metadata": {},
   "outputs": [],
   "source": [
    "for i in range (xx.shape[1]):\n",
    "    lpc_10_1 = LPC(xx[i], 10)\n",
    "#    lpc_10_2 = LPC(x2[i], 10)\n",
    "    lpc_12_1 = LPC(xx[i], 12)\n",
    "#    lpc_12_2 = LPC(x2[i], 12)\n",
    "    lpc_14_1 = LPC(xx[i], 14)\n",
    "#    lpc_14_2 = LPC(x2[i], 14)\n",
    "\n",
    "    lpc = np.concatenate((lpc_10_1, lpc_12_1, lpc_14_1))\n",
    "    break"
   ]
  },
  {
   "cell_type": "code",
   "execution_count": 68,
   "metadata": {},
   "outputs": [
    {
     "data": {
      "text/plain": [
       "(39,)"
      ]
     },
     "execution_count": 68,
     "metadata": {},
     "output_type": "execute_result"
    }
   ],
   "source": [
    "lpc.shape"
   ]
  },
  {
   "cell_type": "code",
   "execution_count": 312,
   "metadata": {},
   "outputs": [
    {
     "data": {
      "text/plain": [
       "array([ 5.6824638e-07+0.0000000e+00j,  2.4513686e-06+1.4408027e-06j,\n",
       "       -3.7701747e-07-3.5517360e-08j, -1.3579654e-07-1.3030548e-08j,\n",
       "       -8.0050178e-08-6.6232202e-09j, -6.0451768e-08-2.9320950e-09j,\n",
       "       -5.5271521e-08-0.0000000e+00j, -6.0451768e-08+2.9320950e-09j,\n",
       "       -8.0050178e-08+6.6232202e-09j, -1.3579654e-07+1.3030548e-08j,\n",
       "       -3.7701747e-07+3.5517360e-08j,  2.4513686e-06-1.4408027e-06j],\n",
       "      dtype=complex64)"
      ]
     },
     "execution_count": 312,
     "metadata": {},
     "output_type": "execute_result"
    }
   ],
   "source": [
    "r_12"
   ]
  },
  {
   "cell_type": "code",
   "execution_count": 158,
   "metadata": {},
   "outputs": [
    {
     "data": {
      "text/plain": [
       "array([-2.1472832e-08-0.0000000e+00j,  3.5054573e-08+3.1722449e-09j,\n",
       "       -3.1050695e-09+2.3825310e-08j, -1.3643614e-08+1.0246094e-08j,\n",
       "       -1.5522817e-08-0.0000000e+00j, -1.3643614e-08-1.0246094e-08j,\n",
       "       -3.1050695e-09-2.3825310e-08j,  3.5054573e-08-3.1722449e-09j],\n",
       "      dtype=complex64)"
      ]
     },
     "execution_count": 158,
     "metadata": {},
     "output_type": "execute_result"
    }
   ],
   "source": [
    "r_8"
   ]
  },
  {
   "cell_type": "code",
   "execution_count": 153,
   "metadata": {},
   "outputs": [
    {
     "data": {
      "image/png": "[encoded data removed]",
      "text/plain": [
       "<Figure size 432x288 with 1 Axes>"
      ]
     },
     "metadata": {
      "needs_background": "light"
     },
     "output_type": "display_data"
    }
   ],
   "source": [
    "plt.plot(r_12)\n",
    "plt.plot(r_8)\n",
    "plt.show()"
   ]
  },
  {
   "cell_type": "code",
   "execution_count": 124,
   "metadata": {},
   "outputs": [],
   "source": [
    "r_8 = fft_cepstrum(x1, len(x1), 8)"
   ]
  },
  {
   "cell_type": "code",
   "execution_count": 121,
   "metadata": {},
   "outputs": [
    {
     "data": {
      "image/png": "[encoded data removed]",
      "text/plain": [
       "<Figure size 432x288 with 1 Axes>"
      ]
     },
     "metadata": {
      "needs_background": "light"
     },
     "output_type": "display_data"
    }
   ],
   "source": [
    "plt.plot(r_12, 'ro')\n",
    "plt.plot(r_8, 'g+')\n",
    "plt.show()"
   ]
  },
  {
   "cell_type": "code",
   "execution_count": 125,
   "metadata": {},
   "outputs": [
    {
     "data": {
      "image/png": "[encoded data removed]",
      "text/plain": [
       "<Figure size 432x288 with 1 Axes>"
      ]
     },
     "metadata": {
      "needs_background": "light"
     },
     "output_type": "display_data"
    }
   ],
   "source": [
    "plt.plot(r_12, 'ro')\n",
    "plt.plot(r_8, 'g+')\n",
    "plt.show()"
   ]
  },
  {
   "cell_type": "code",
   "execution_count": 126,
   "metadata": {},
   "outputs": [
    {
     "data": {
      "text/plain": [
       "67531"
      ]
     },
     "execution_count": 126,
     "metadata": {},
     "output_type": "execute_result"
    }
   ],
   "source": [
    "len(r_12)"
   ]
  },
  {
   "cell_type": "code",
   "execution_count": null,
   "metadata": {},
   "outputs": [],
   "source": []
  }
 ],
 "metadata": {
  "kernelspec": {
   "display_name": "Python 3",
   "language": "python",
   "name": "python3"
  },
  "language_info": {
   "codemirror_mode": {
    "name": "ipython",
    "version": 3
   },
   "file_extension": ".py",
   "mimetype": "text/x-python",
   "name": "python",
   "nbconvert_exporter": "python",
   "pygments_lexer": "ipython3",
   "version": "3.7.6"
  },
  "pycharm": {
   "stem_cell": {
    "cell_type": "raw",
    "source": [],
    "metadata": {
     "collapsed": false
    }
   }
  }
 },
 "nbformat": 4,
 "nbformat_minor": 4
}